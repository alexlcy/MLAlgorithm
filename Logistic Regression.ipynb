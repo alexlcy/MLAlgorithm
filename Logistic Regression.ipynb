{
 "cells": [
  {
   "cell_type": "code",
   "execution_count": 22,
   "metadata": {},
   "outputs": [],
   "source": [
    "import pandas as pd\n",
    "import math\n",
    "import numpy as np\n",
    "from sklearn.model_selection import train_test_split\n",
    "import matplotlib.pyplot as plt\n",
    "from sklearn.datasets import make_classification\n",
    "import seaborn as sns\n",
    "from sklearn.linear_model import LogisticRegression"
   ]
  },
  {
   "cell_type": "code",
   "execution_count": 23,
   "metadata": {},
   "outputs": [],
   "source": [
    "def sigmoid(x):\n",
    "    return 1.0/(1+np.exp(-x))\n",
    "\n",
    "def cost(X, y, beta):\n",
    "    m = len(y)\n",
    "    h = sigmoid(X @ beta)\n",
    "    epsilon = 1e-5\n",
    "    return (1/m)*(((-y).T @ np.log(h + epsilon))-((1-y).T @ np.log(1-h + epsilon)))\n",
    "\n",
    "def gradient(X,y,beta):\n",
    "    return (X.T @ (sigmoid(X @ beta) - y))\n",
    "\n",
    "def hessian(X,y,beta):\n",
    "    return X.T * (np.diag(np.ravel(np.exp(X*beta)/np.power(1+np.exp(X*beta),2))) * X)\n",
    "\n",
    "def predict(X, beta):\n",
    "    return np.round(signmoid(X @ beta))\n",
    "\n",
    "def gradient_descent(X, y, beta, learning_rate, iterations):\n",
    "    m = len(y)\n",
    "    cost_record = np.zeros((iterations,1))\n",
    "    \n",
    "    for i in range(iterations):\n",
    "        beta = beta - (learning_rate * gradient(X,y,beta)/len(y))\n",
    "        cost_record[i] = cost(X, y, beta)\n",
    "    return (cost_record, beta)\n",
    "\n",
    "def newton_method(X, y, beta, iterations):\n",
    "    m = len(y)\n",
    "    cost_record = np.zeros((iterations,1))\n",
    "    TOL = np.power(10.,-10)\n",
    "    counter = 0\n",
    "    while np.linalg.norm(gradient(X,y,beta)) > TOL:\n",
    "        beta -= np.linalg.inv(hessian(X, y, beta))*gradient(X, y, beta)\n",
    "        cost_record[counter] = cost(X, y, beta)\n",
    "        counter+=1\n",
    "    return (cost_record, beta)"
   ]
  },
  {
   "cell_type": "code",
   "execution_count": 24,
   "metadata": {},
   "outputs": [],
   "source": [
    "def fit(y, X, iterations = 100, learning_rate = 0.03, method = 'Gradident_Descent'):\n",
    "    m = len(y)\n",
    "    X = np.hstack((np.ones((m,1)),X))\n",
    "    n = np.size(X,1)\n",
    "    beta = np.zeros((n,1))\n",
    "    initial_cost = cost(X, y, beta)\n",
    "\n",
    "    print(\"Initial Cost is: {} \\n\".format(initial_cost))\n",
    "\n",
    "    if method == 'Gradident_Descent':\n",
    "        (cost_history, beta_optimal) = gradient_descent(X, y, beta, learning_rate, iterations)\n",
    "    elif method == 'Newton Method':\n",
    "        (cost_history, beta_optimal) = newton_method_demo(X, y, beta, iterations)\n",
    "    else:\n",
    "        print('Unsupportinged Method')\n",
    "\n",
    "    return beta_optimal"
   ]
  },
  {
   "cell_type": "markdown",
   "metadata": {},
   "source": [
    "## Benchmark from sklearn"
   ]
  },
  {
   "cell_type": "code",
   "execution_count": 25,
   "metadata": {},
   "outputs": [],
   "source": [
    "X, y = make_classification(n_samples=500, n_features=2, n_redundant=0, n_informative=1,\n",
    "                             n_clusters_per_class=1, random_state=14)\n",
    "m = len(y)\n",
    "X = np.hstack((np.ones((m,1)),X))\n",
    "y = y[:,np.newaxis]"
   ]
  },
  {
   "cell_type": "code",
   "execution_count": 26,
   "metadata": {},
   "outputs": [],
   "source": [
    "import numpy as np\n",
    "X = np.matrix(np.ones(2484)).T\n",
    "X = np.append(X,np.matrix([0]*1379+[2]*638+[4]*213+[5]*254).T,axis=1)\n",
    "y = np.matrix([1]*24+[0]*1355+[1]*35+[0]*603+[1]*21+[0]*192+[1]*30+[0]*224).T"
   ]
  },
  {
   "cell_type": "code",
   "execution_count": 27,
   "metadata": {
    "scrolled": false
   },
   "outputs": [
    {
     "name": "stdout",
     "output_type": "stream",
     "text": [
      "Optimal Parameters are: \n",
      " [[-3.84667416]\n",
      " [ 0.39245526]] \n",
      "\n"
     ]
    },
    {
     "data": {
      "image/png": "[encoded data removed]",
      "text/plain": [
       "<Figure size 432x288 with 1 Axes>"
      ]
     },
     "metadata": {},
     "output_type": "display_data"
    }
   ],
   "source": [
    "n = np.size(X,1)\n",
    "params = np.zeros((n,1))\n",
    "\n",
    "iterations =10000\n",
    "learning_rate = 0.03\n",
    "\n",
    "initial_cost = cost(X, y, params)\n",
    "\n",
    "\n",
    "(cost_history, params_optimal) = gradient_descent(X, y, params,learning_rate, iterations)\n",
    "print(\"Optimal Parameters are: \\n\", params_optimal, \"\\n\")\n",
    "\n",
    "plt.figure()\n",
    "sns.set_style('white')\n",
    "plt.plot(range(len(cost_history)), cost_history, 'r')\n",
    "plt.title(\"Convergence Graph of Cost Function\")\n",
    "plt.xlabel(\"Number of Iterations\")\n",
    "plt.ylabel(\"Cost\")\n",
    "plt.show()"
   ]
  },
  {
   "cell_type": "code",
   "execution_count": 28,
   "metadata": {},
   "outputs": [
    {
     "name": "stdout",
     "output_type": "stream",
     "text": [
      "Optimal Parameters are: \n",
      " [[-3.8662481 ]\n",
      " [ 0.39733662]] \n",
      "\n"
     ]
    },
    {
     "data": {
      "image/png": "[encoded data removed]",
      "text/plain": [
       "<Figure size 432x288 with 1 Axes>"
      ]
     },
     "metadata": {},
     "output_type": "display_data"
    }
   ],
   "source": [
    "beta = np.matrix(np.zeros(X.shape[1])).T\n",
    "\n",
    "iterations = 15\n",
    "learning_rate = 0.03\n",
    "\n",
    "(cost_history, params_optimal) = newton_method(X, y, beta, iterations)\n",
    "print(\"Optimal Parameters are: \\n\", params_optimal, \"\\n\")\n",
    "\n",
    "plt.figure()\n",
    "sns.set_style('white')\n",
    "plt.plot(range(len(cost_history)), cost_history, 'r')\n",
    "plt.title(\"Convergence Graph of Cost Function\")\n",
    "plt.xlabel(\"Number of Iterations\")\n",
    "plt.ylabel(\"Cost\")\n",
    "plt.show()"
   ]
  },
  {
   "cell_type": "code",
   "execution_count": 29,
   "metadata": {},
   "outputs": [
    {
     "name": "stdout",
     "output_type": "stream",
     "text": [
      "[[-3.86624885  0.39733451]]\n"
     ]
    }
   ],
   "source": [
    "from sklearn.linear_model import LogisticRegression\n",
    "clf = LogisticRegression(solver='lbfgs',C=1e9,fit_intercept=False).fit(X,np.ravel(y))\n",
    "np.set_printoptions(suppress=True)\n",
    "print(clf.coef_)"
   ]
  },
  {
   "cell_type": "code",
   "execution_count": null,
   "metadata": {},
   "outputs": [],
   "source": []
  },
  {
   "cell_type": "code",
   "execution_count": null,
   "metadata": {},
   "outputs": [],
   "source": []
  }
 ],
 "metadata": {
  "kernelspec": {
   "display_name": "Python 3",
   "language": "python",
   "name": "python3"
  },
  "language_info": {
   "codemirror_mode": {
    "name": "ipython",
    "version": 3
   },
   "file_extension": ".py",
   "mimetype": "text/x-python",
   "name": "python",
   "nbconvert_exporter": "python",
   "pygments_lexer": "ipython3",
   "version": "3.7.6"
  }
 },
 "nbformat": 4,
 "nbformat_minor": 4
}
