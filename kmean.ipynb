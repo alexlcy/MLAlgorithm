{
 "cells": [
  {
   "cell_type": "code",
   "execution_count": 7,
   "metadata": {},
   "outputs": [],
   "source": [
    "import numpy as np\n",
    "from sklearn.cluster import KMeans"
   ]
  },
  {
   "cell_type": "code",
   "execution_count": 3,
   "metadata": {},
   "outputs": [],
   "source": [
    "K = 3\n",
    "\n",
    "points = np.vstack(((np.random.randn(150, 2) * 0.75 + np.array([1, 0])),\n",
    "                  (np.random.randn(50, 2) * 0.25 + np.array([-0.5, 0.5])),\n",
    "                  (np.random.randn(50, 2) * 0.5 + np.array([-0.5, -0.5]))))"
   ]
  },
  {
   "cell_type": "code",
   "execution_count": 4,
   "metadata": {},
   "outputs": [],
   "source": [
    "def euclidean_dist(x, y):\n",
    "    return np.sqrt((x[0] - y[0])**2 + (x[1] - y[1])**2)\n",
    "\n",
    "def cluster_euclidean_dist(cluster_point, centroids):\n",
    "    return np.array(list(map(lambda point : euclidean_dist(centroids, point), cluster_point)))\n",
    "\n",
    "def cost_fun(centroids, closest_cluster, K):\n",
    "    cluster_point = list(map(lambda x : points[np.where(closest_cluster == x)], np.arange(0, K)))\n",
    "    return np.sum(np.concatenate(list(map(lambda x: cluster_euclidean_dist(cluster_point[x], centroids[x]),np.arange(0, K))), axis= None))"
   ]
  },
  {
   "cell_type": "code",
   "execution_count": 43,
   "metadata": {},
   "outputs": [],
   "source": [
    "# TODO : Randomly select seed and save it down to make the result reproducable\n",
    "def K_means(points, n_clusters,  num_iter, num_trials):\n",
    "    seed_list = []\n",
    "    cost_list = []\n",
    "\n",
    "    for i in range(num_trials):\n",
    "        seed = np.random.randint(100)\n",
    "        np.random.seed(seed)\n",
    "        seed_list.append(seed)\n",
    "\n",
    "        N = points.shape[0]\n",
    "        label = np.random.randint(n_clusters, size = N)\n",
    "        centroids = np.array(list(map(lambda x : np.mean(points[np.where(label == x)], axis = 0), np.arange(0, K))))\n",
    "        for i in range(num_iter):\n",
    "            # Calculate the Euclidean Distance between each point with centroids\n",
    "            function = lambda point : np.argmin(list(map(lambda x : euclidean_dist(x, point),centroids)))\n",
    "            # Assign the cluster label of points based on teh distance\n",
    "            closest_cluster = np.array(list(map(function, points)))\n",
    "            # Calculate the cost of the cost of this iteration\n",
    "            cost = cost_fun(centroids, closest_cluster, K)\n",
    "            # Updata Centroids after one iteration\n",
    "            centroids = np.array(list(map(lambda x : np.mean(points[np.where(closest_cluster == x)], axis = 0), np.arange(0, K))))\n",
    "        cost_list.append(cost)\n",
    "    \n",
    "    best_seed = seed_list[np.argmin(np.array(cost_list))]\n",
    "    \n",
    "    np.random.seed(best_seed)\n",
    "    label = np.random.randint(n_clusters, size = N)\n",
    "    centroids = np.array(list(map(lambda x : np.mean(points[np.where(label == x)], axis = 0), np.arange(0, K))))\n",
    "    for i in range(num_iter):\n",
    "        # Calculate the Euclidean Distance between each point with centroids\n",
    "        function = lambda point : np.argmin(list(map(lambda x : euclidean_dist(x, point),centroids)))\n",
    "        # Assign the cluster label of points based on teh distance\n",
    "        closest_cluster = np.array(list(map(function, points)))\n",
    "        # Calculate the cost of the cost of this iteration\n",
    "        cost = cost_fun(centroids, closest_cluster, K)\n",
    "        # Updata Centroids after one iteration\n",
    "        centroids = np.array(list(map(lambda x : np.mean(points[np.where(closest_cluster == x)], axis = 0), np.arange(0, K))))\n",
    "\n",
    "    return closest_cluster, centroids\n"
   ]
  },
  {
   "cell_type": "code",
   "execution_count": 57,
   "metadata": {},
   "outputs": [],
   "source": [
    "k_mean_result = K_means(points,n_clusters = 3, num_iter =  10, num_trials = 10)"
   ]
  },
  {
   "cell_type": "code",
   "execution_count": 58,
   "metadata": {},
   "outputs": [
    {
     "data": {
      "text/plain": [
       "array([2, 2, 0, 1, 1, 2, 1, 2, 2, 2, 2, 2, 1, 1, 2, 2, 1, 1, 1, 0, 1, 1,\n",
       "       1, 1, 2, 1, 1, 1, 2, 1, 1, 2, 2, 2, 1, 1, 2, 1, 1, 2, 1, 2, 1, 1,\n",
       "       1, 2, 1, 1, 2, 1, 2, 1, 1, 1, 1, 2, 1, 1, 1, 1, 2, 1, 1, 2, 2, 1,\n",
       "       2, 2, 2, 2, 2, 0, 2, 0, 1, 1, 1, 2, 2, 2, 2, 1, 2, 1, 1, 1, 2, 1,\n",
       "       1, 1, 0, 2, 2, 2, 1, 1, 0, 2, 1, 0, 2, 0, 1, 2, 1, 2, 2, 1, 0, 2,\n",
       "       1, 1, 1, 2, 2, 1, 0, 2, 2, 1, 2, 1, 1, 1, 1, 1, 1, 1, 2, 2, 1, 2,\n",
       "       1, 2, 1, 2, 0, 0, 0, 0, 1, 2, 1, 1, 1, 0, 1, 0, 1, 1, 0, 0, 0, 0,\n",
       "       0, 0, 0, 0, 0, 0, 0, 0, 0, 0, 0, 0, 0, 0, 0, 0, 0, 0, 0, 0, 0, 0,\n",
       "       0, 0, 0, 0, 0, 0, 0, 0, 0, 0, 0, 0, 0, 0, 0, 0, 0, 0, 0, 0, 0, 0,\n",
       "       0, 0, 2, 2, 0, 0, 0, 0, 2, 0, 0, 0, 0, 2, 0, 2, 0, 2, 2, 0, 2, 0,\n",
       "       0, 2, 0, 0, 2, 2, 0, 0, 2, 2, 0, 0, 0, 0, 2, 2, 2, 0, 0, 0, 2, 2,\n",
       "       0, 0, 0, 0, 0, 0, 2, 0])"
      ]
     },
     "execution_count": 58,
     "metadata": {},
     "output_type": "execute_result"
    }
   ],
   "source": [
    "k_mean_result[0]"
   ]
  },
  {
   "cell_type": "code",
   "execution_count": 53,
   "metadata": {},
   "outputs": [],
   "source": [
    "kmeans = KMeans(n_clusters=3).fit(points)"
   ]
  },
  {
   "cell_type": "code",
   "execution_count": 56,
   "metadata": {},
   "outputs": [
    {
     "data": {
      "text/plain": [
       "array([0, 0, 1, 0, 2, 1, 0, 1, 0, 0, 0, 0, 0, 2, 0, 0, 0, 0, 2, 1, 2, 0,\n",
       "       2, 2, 0, 2, 0, 2, 0, 2, 2, 0, 0, 0, 2, 2, 0, 2, 2, 0, 2, 0, 2, 2,\n",
       "       2, 1, 2, 0, 0, 2, 0, 0, 0, 2, 2, 0, 0, 0, 2, 0, 1, 2, 2, 0, 0, 0,\n",
       "       0, 0, 0, 0, 0, 1, 0, 2, 2, 2, 0, 0, 0, 0, 0, 2, 0, 0, 2, 2, 0, 2,\n",
       "       2, 2, 1, 0, 1, 0, 2, 0, 1, 0, 2, 1, 0, 2, 2, 0, 2, 1, 0, 2, 1, 0,\n",
       "       2, 0, 2, 0, 0, 2, 1, 0, 0, 0, 0, 0, 2, 0, 2, 2, 2, 2, 0, 0, 2, 0,\n",
       "       2, 0, 2, 1, 1, 1, 1, 2, 2, 1, 0, 2, 2, 1, 0, 1, 2, 2, 1, 1, 1, 1,\n",
       "       1, 1, 1, 1, 1, 1, 1, 1, 1, 1, 1, 1, 1, 1, 1, 1, 1, 1, 1, 1, 1, 1,\n",
       "       1, 1, 1, 1, 1, 1, 1, 1, 1, 1, 1, 1, 1, 1, 1, 1, 1, 1, 1, 1, 1, 1,\n",
       "       1, 1, 0, 1, 1, 1, 1, 1, 1, 1, 1, 1, 1, 1, 1, 1, 1, 0, 1, 1, 1, 1,\n",
       "       1, 1, 1, 1, 1, 0, 1, 1, 0, 1, 1, 1, 1, 1, 1, 1, 0, 1, 1, 1, 1, 1,\n",
       "       1, 1, 1, 1, 1, 1, 1, 1], dtype=int32)"
      ]
     },
     "execution_count": 56,
     "metadata": {},
     "output_type": "execute_result"
    }
   ],
   "source": [
    "kmeans.labels_"
   ]
  },
  {
   "cell_type": "code",
   "execution_count": null,
   "metadata": {},
   "outputs": [],
   "source": []
  }
 ],
 "metadata": {
  "kernelspec": {
   "display_name": "Python 3",
   "language": "python",
   "name": "python3"
  },
  "language_info": {
   "codemirror_mode": {
    "name": "ipython",
    "version": 3
   },
   "file_extension": ".py",
   "mimetype": "text/x-python",
   "name": "python",
   "nbconvert_exporter": "python",
   "pygments_lexer": "ipython3",
   "version": "3.7.6"
  }
 },
 "nbformat": 4,
 "nbformat_minor": 4
}
