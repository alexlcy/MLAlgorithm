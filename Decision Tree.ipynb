{
 "cells": [
  {
   "cell_type": "code",
   "execution_count": null,
   "metadata": {},
   "outputs": [],
   "source": [
    "# Random Forest Boostrape\n",
    "# Random Forest Feature selection"
   ]
  },
  {
   "cell_type": "code",
   "execution_count": 715,
   "metadata": {},
   "outputs": [],
   "source": [
    "import numpy as np\n",
    "from sklearn.datasets import load_iris\n",
    "from sklearn.model_selection import train_test_split\n",
    "from sklearn.tree import plot_tree\n",
    "import matplotlib.pyplot as plt\n",
    "from sklearn.metrics import accuracy_score\n",
    "\n",
    "X, y = load_iris(return_X_y=True)"
   ]
  },
  {
   "cell_type": "code",
   "execution_count": 716,
   "metadata": {},
   "outputs": [],
   "source": [
    "X_train, X_test, y_train, y_test = train_test_split(\n",
    "X, y, test_size=0.33, random_state=42)"
   ]
  },
  {
   "cell_type": "code",
   "execution_count": 717,
   "metadata": {},
   "outputs": [],
   "source": [
    "def gini_index(*groups):\n",
    "    gini_value = 0\n",
    "    total_num = np.sum([group[0].shape[0] for group in groups])\n",
    "\n",
    "    for group in groups:\n",
    "        y = group[1]\n",
    "        group_size = y.shape[0]\n",
    "\n",
    "        _, count = np.unique(y, return_counts=True)\n",
    "        p = count/group_size\n",
    "        weight = group_size/total_num\n",
    "\n",
    "        gini_value += (1- np.sum(p**2)) * weight\n",
    "    return gini_value\n",
    "\n",
    "\n",
    "def split(X, y, split_value):\n",
    "    mask = X < split_value\n",
    "    group_1 = (X[mask], y[mask])\n",
    "    group_2 = (X[mask == 0], y[mask == 0])\n",
    "    return group_1, group_2\n",
    "\n",
    "def best_split(X, y):\n",
    "    spliting_list = []\n",
    "    for i in range(X.shape[1]):\n",
    "        split_range = np.unique(X[:,i])\n",
    "        for split_value in split_range:\n",
    "            split_group = split(X[:, i], y, split_value)\n",
    "            if check_legal_split(*split_group, min_samples_leaf=1):\n",
    "                spliting_list.append([gini_index(*split_group), split_value, i])\n",
    "                \n",
    "    if len(spliting_list) ==0:\n",
    "        return np.NaN, np.NaN, None, None\n",
    "    \n",
    "    optimal_split, _,_ = np.argmin(np.array(spliting_list), axis = 0)\n",
    "    _, optimal_split_value, label = np.array(spliting_list[optimal_split])\n",
    "    \n",
    "    bool_mask = X[:, int(label)] < optimal_split_value\n",
    "    group1 = (X[bool_mask], y[bool_mask])\n",
    "    group2 = (X[bool_mask == 0 ], y[bool_mask == 0])\n",
    "    return optimal_split_value, label, group1, group2\n",
    "\n",
    "def check_legal_split(*groups, min_samples_leaf=1):\n",
    "    for group in groups:\n",
    "        if group[0].shape[0] < min_samples_leaf:\n",
    "            return False\n",
    "        else:\n",
    "            return True\n",
    "        \n",
    "def pprint_tree(node, file=None, _prefix=\"\", _last=True):\n",
    "    print(_prefix, \"`- \" if _last else \"|- \", \"Depth :{}, Split Feature:{}, Split Value:{}, Label:{}\".format(node.depth,node.split_value, node.split_feature, node._label), sep=\"\", file=file)\n",
    "    _prefix += \"   \" if _last else \"|  \"\n",
    "    \n",
    "    if node._left_child == None or node._right_child == None:\n",
    "        return None\n",
    "    \n",
    "    pprint_tree(node._left_child, file, _prefix, _last = False)\n",
    "    pprint_tree(node._right_child, file, _prefix, _last = True)"
   ]
  },
  {
   "cell_type": "code",
   "execution_count": 718,
   "metadata": {},
   "outputs": [],
   "source": [
    "class Node:\n",
    "    def __init__(self, depth = 0):\n",
    "        self.split_value = None\n",
    "        self.split_feature = None\n",
    "        self._label = None\n",
    "        self._left_child = None\n",
    "        self._right_child = None\n",
    "        self._leaf = False\n",
    "        self.depth = depth\n",
    "    \n",
    "    def train(self, X, y, max_depth=8, min_samples_split=2, min_samples_leaf=1):\n",
    "        self.split_value, self.split_feature, group1, group2 = best_split(X, y)\n",
    "        if self.depth < max_depth and X.shape[0] > min_samples_split:\n",
    "            self._left_child = Node(self.depth + 1)\n",
    "            self._right_child = Node(self.depth + 1)\n",
    "            self._left_child.train(*group1, max_depth, min_samples_split, min_samples_leaf)\n",
    "            self._right_child.train(*group2, max_depth, min_samples_split, min_samples_leaf)\n",
    "        else:\n",
    "            self.sprout(y)\n",
    "            \n",
    "    def sprout(self, y):\n",
    "        self._leaf = True\n",
    "\n",
    "        labels, count = np.unique(y, return_counts = True)\n",
    "        self._label = labels[np.argmax(count)]\n",
    "        \n",
    "    def predict(self, x):\n",
    "        if self._leaf == True:\n",
    "            return self._label\n",
    "        \n",
    "        if x[int(self.split_feature)] < self.split_value:\n",
    "            return self._left_child.predict(x)\n",
    "        else:\n",
    "            return self._right_child.predict(x)\n",
    "\n",
    "class Tree:\n",
    "    def __init__(self, max_depth=8, min_samples_split=2, min_samples_leaf=1):\n",
    "        self._root = Node()\n",
    "        self.max_depth = max_depth\n",
    "        self.min_samples_split = min_samples_split\n",
    "        self.min_samples_leaf = min_samples_leaf\n",
    "        \n",
    "    def train(self, X, y):\n",
    "        self._root.train(X, y,\n",
    "                        self.max_depth, \n",
    "                        self.min_samples_split, \n",
    "                        self.min_samples_leaf)\n",
    "        \n",
    "        \n",
    "    def predict(self, X):\n",
    "        prediction = []\n",
    "        for i in range(len(X)):\n",
    "            prediction.append(self._root.predict(X[i]))\n",
    "        return prediction\n",
    "    \n",
    "    def print_tree(self):\n",
    "        pprint_tree(self._root)\n",
    "        "
   ]
  },
  {
   "cell_type": "markdown",
   "metadata": {},
   "source": [
    "# Compare to Sklearn"
   ]
  },
  {
   "cell_type": "code",
   "execution_count": 680,
   "metadata": {},
   "outputs": [],
   "source": [
    "from sklearn import tree"
   ]
  },
  {
   "cell_type": "code",
   "execution_count": 681,
   "metadata": {},
   "outputs": [],
   "source": [
    "clf = tree.DecisionTreeClassifier()"
   ]
  },
  {
   "cell_type": "code",
   "execution_count": 682,
   "metadata": {},
   "outputs": [],
   "source": [
    "clf = clf.fit(X_train, y_train)"
   ]
  },
  {
   "cell_type": "code",
   "execution_count": 683,
   "metadata": {},
   "outputs": [],
   "source": [
    "skprediction = clf.predict(X_test)"
   ]
  },
  {
   "cell_type": "code",
   "execution_count": 707,
   "metadata": {},
   "outputs": [],
   "source": [
    "tree = Tree()"
   ]
  },
  {
   "cell_type": "code",
   "execution_count": 708,
   "metadata": {
    "scrolled": true
   },
   "outputs": [],
   "source": [
    "tree.train(X_train, y_train)"
   ]
  },
  {
   "cell_type": "code",
   "execution_count": 710,
   "metadata": {},
   "outputs": [],
   "source": [
    "prediction = tree.predict(X_test)"
   ]
  },
  {
   "cell_type": "code",
   "execution_count": 711,
   "metadata": {},
   "outputs": [
    {
     "data": {
      "text/plain": [
       "array([ True,  True,  True,  True,  True,  True,  True,  True,  True,\n",
       "        True,  True,  True,  True,  True,  True,  True,  True,  True,\n",
       "        True,  True,  True,  True,  True,  True,  True,  True,  True,\n",
       "        True,  True,  True,  True,  True,  True,  True,  True,  True,\n",
       "        True,  True,  True,  True,  True,  True,  True,  True,  True,\n",
       "        True, False,  True,  True,  True])"
      ]
     },
     "execution_count": 711,
     "metadata": {},
     "output_type": "execute_result"
    }
   ],
   "source": [
    "skprediction == prediction"
   ]
  },
  {
   "cell_type": "code",
   "execution_count": 712,
   "metadata": {},
   "outputs": [
    {
     "data": {
      "text/plain": [
       "1.0"
      ]
     },
     "execution_count": 712,
     "metadata": {},
     "output_type": "execute_result"
    }
   ],
   "source": [
    "accuracy_score(y_test, skprediction)"
   ]
  },
  {
   "cell_type": "code",
   "execution_count": 713,
   "metadata": {},
   "outputs": [
    {
     "data": {
      "text/plain": [
       "0.98"
      ]
     },
     "execution_count": 713,
     "metadata": {},
     "output_type": "execute_result"
    }
   ],
   "source": [
    "accuracy_score(y_test, prediction)"
   ]
  },
  {
   "cell_type": "code",
   "execution_count": 720,
   "metadata": {},
   "outputs": [
    {
     "name": "stdout",
     "output_type": "stream",
     "text": [
      "`- Depth :0, Split Feature:3.0, Split Value:2.0, Label:None\n",
      "   |- Depth :1, Split Feature:4.4, Split Value:0.0, Label:None\n",
      "   |  |- Depth :2, Split Feature:nan, Split Value:nan, Label:0\n",
      "   |  `- Depth :2, Split Feature:4.5, Split Value:0.0, Label:None\n",
      "   |     |- Depth :3, Split Feature:3.0, Split Value:1.0, Label:0\n",
      "   |     `- Depth :3, Split Feature:4.6, Split Value:0.0, Label:None\n",
      "   |        |- Depth :4, Split Feature:nan, Split Value:nan, Label:0\n",
      "   |        `- Depth :4, Split Feature:4.7, Split Value:0.0, Label:None\n",
      "   |           |- Depth :5, Split Feature:3.2, Split Value:1.0, Label:None\n",
      "   |           |  |- Depth :6, Split Feature:nan, Split Value:nan, Label:0\n",
      "   |           |  `- Depth :6, Split Feature:3.4, Split Value:1.0, Label:0\n",
      "   |           `- Depth :5, Split Feature:4.8, Split Value:0.0, Label:None\n",
      "   |              |- Depth :6, Split Feature:nan, Split Value:nan, Label:0\n",
      "   |              `- Depth :6, Split Feature:4.9, Split Value:0.0, Label:None\n",
      "   |                 |- Depth :7, Split Feature:nan, Split Value:nan, Label:0\n",
      "   |                 `- Depth :7, Split Feature:5.0, Split Value:0.0, Label:None\n",
      "   |                    |- Depth :8, Split Feature:3.1, Split Value:1.0, Label:0\n",
      "   |                    `- Depth :8, Split Feature:5.1, Split Value:0.0, Label:0\n",
      "   `- Depth :1, Split Feature:1.8, Split Value:3.0, Label:None\n",
      "      |- Depth :2, Split Feature:5.6, Split Value:2.0, Label:None\n",
      "      |  |- Depth :3, Split Feature:5.0, Split Value:0.0, Label:None\n",
      "      |  |  |- Depth :4, Split Feature:2.5, Split Value:1.0, Label:1\n",
      "      |  |  `- Depth :4, Split Feature:2.3, Split Value:1.0, Label:None\n",
      "      |  |     |- Depth :5, Split Feature:5.0, Split Value:2.0, Label:None\n",
      "      |  |     |  |- Depth :6, Split Feature:6.0, Split Value:0.0, Label:1\n",
      "      |  |     |  `- Depth :6, Split Feature:nan, Split Value:nan, Label:2\n",
      "      |  |     `- Depth :5, Split Feature:5.1, Split Value:0.0, Label:None\n",
      "      |  |        |- Depth :6, Split Feature:nan, Split Value:nan, Label:1\n",
      "      |  |        `- Depth :6, Split Feature:5.2, Split Value:0.0, Label:None\n",
      "      |  |           |- Depth :7, Split Feature:nan, Split Value:nan, Label:1\n",
      "      |  |           `- Depth :7, Split Feature:5.4, Split Value:0.0, Label:None\n",
      "      |  |              |- Depth :8, Split Feature:nan, Split Value:nan, Label:1\n",
      "      |  |              `- Depth :8, Split Feature:5.5, Split Value:0.0, Label:1\n",
      "      |  `- Depth :3, Split Feature:7.2, Split Value:0.0, Label:2\n",
      "      `- Depth :2, Split Feature:4.9, Split Value:2.0, Label:None\n",
      "         |- Depth :3, Split Feature:6.0, Split Value:0.0, Label:None\n",
      "         |  |- Depth :4, Split Feature:nan, Split Value:nan, Label:1\n",
      "         |  `- Depth :4, Split Feature:6.2, Split Value:0.0, Label:2\n",
      "         `- Depth :3, Split Feature:5.7, Split Value:0.0, Label:None\n",
      "            |- Depth :4, Split Feature:nan, Split Value:nan, Label:2\n",
      "            `- Depth :4, Split Feature:5.8, Split Value:0.0, Label:None\n",
      "               |- Depth :5, Split Feature:nan, Split Value:nan, Label:2\n",
      "               `- Depth :5, Split Feature:5.9, Split Value:0.0, Label:None\n",
      "                  |- Depth :6, Split Feature:2.8, Split Value:1.0, Label:2\n",
      "                  `- Depth :6, Split Feature:6.2, Split Value:0.0, Label:None\n",
      "                     |- Depth :7, Split Feature:nan, Split Value:nan, Label:2\n",
      "                     `- Depth :7, Split Feature:6.3, Split Value:0.0, Label:None\n",
      "                        |- Depth :8, Split Feature:nan, Split Value:nan, Label:2\n",
      "                        `- Depth :8, Split Feature:6.4, Split Value:0.0, Label:2\n"
     ]
    }
   ],
   "source": [
    "tree.print_tree()"
   ]
  },
  {
   "cell_type": "code",
   "execution_count": null,
   "metadata": {},
   "outputs": [],
   "source": []
  }
 ],
 "metadata": {
  "kernelspec": {
   "display_name": "Python 3",
   "language": "python",
   "name": "python3"
  },
  "language_info": {
   "codemirror_mode": {
    "name": "ipython",
    "version": 3
   },
   "file_extension": ".py",
   "mimetype": "text/x-python",
   "name": "python",
   "nbconvert_exporter": "python",
   "pygments_lexer": "ipython3",
   "version": "3.7.6"
  }
 },
 "nbformat": 4,
 "nbformat_minor": 4
}
